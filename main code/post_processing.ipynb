{
 "cells": [
  {
   "cell_type": "code",
   "execution_count": 5,
   "metadata": {},
   "outputs": [],
   "source": [
    "import re\n",
    "import pandas as pd\n",
    "\n",
    "# Normalization and priority map based on entity_name\n",
    "entity_unit_map = {\n",
    "    \"width\": [\"centimetre\", \"foot\", \"inch\", \"metre\", \"millimetre\", \"yard\"],\n",
    "    \"depth\": [\"centimetre\", \"foot\", \"inch\", \"metre\", \"millimetre\", \"yard\"],\n",
    "    \"height\": [\"centimetre\", \"foot\", \"inch\", \"metre\", \"millimetre\", \"yard\"],\n",
    "    \"item_weight\": [\"kilogram\", \"gram\", \"milligram\", \"microgram\", \"ounce\", \"pound\", \"ton\"],\n",
    "    \"maximum_weight_recommendation\": [\"kilogram\", \"gram\", \"milligram\", \"microgram\", \"ounce\", \"pound\", \"ton\"],\n",
    "    \"voltage\": [\"volt\", \"millivolt\", \"kilovolt\"],\n",
    "    \"wattage\": [\"watt\", \"kilowatt\"],\n",
    "    \"item_volume\": [\"litre\", \"millilitre\", \"gallon\", \"cubic foot\", \"fluid ounce\", \"cup\", \"centilitre\", \"pint\", \"quart\", \"cubic inch\"]\n",
    "}\n",
    "\n",
    "# Function to normalize and prioritize units\n",
    "def extract_and_normalize_units(entity_name, text):\n",
    "    # Define normalization mapping for various units\n",
    "    normalization_map = {\n",
    "        'g': 'gram', 'grams': 'gram', 'mg': 'milligram', 'kg': 'kilogram',\n",
    "        'oz': 'ounce', 'lbs': 'pound', 'lb': 'pound', 'cm': 'centimetre',\n",
    "        'mm': 'millimetre', 'm': 'metre', 'in': 'inch', '\"': 'inch',\n",
    "        'ft': 'foot', 'v': 'volt', 'w': 'watt', 'kw': 'kilowatt', 'ml': 'millilitre',\n",
    "        'l': 'litre', 'cu ft': 'cubic foot', 'cu in': 'cubic inch', 'hp': 'horsepower',\n",
    "        'mah': 'milliampere hour'\n",
    "    }\n",
    "\n",
    "    # Regex to find numbers followed by units\n",
    "    pattern = re.compile(r'(\\d+\\.?\\d*)\\s?(cm|in|mm|ft|kg|g|mg|lb|lbs|oz|v|w|kw|l|ml|cu ft|cu in|\"|hp|mah)', re.IGNORECASE)\n",
    "\n",
    "    # Normalize and prioritize the matches\n",
    "    matches = pattern.findall(text)\n",
    "    \n",
    "    if not matches:\n",
    "        return \"nan\"\n",
    "\n",
    "    allowed_units = entity_unit_map.get(entity_name, [])\n",
    "\n",
    "    selected_value = None\n",
    "    selected_unit = None\n",
    "\n",
    "    for value, unit in matches:\n",
    "        normalized_unit = normalization_map.get(unit.lower(), unit.lower())\n",
    "        if normalized_unit in allowed_units:\n",
    "            if selected_unit is None or allowed_units.index(normalized_unit) < allowed_units.index(selected_unit):\n",
    "                selected_value = value\n",
    "                selected_unit = normalized_unit\n",
    "\n",
    "    # Return the prioritized value and its corresponding unit\n",
    "    if selected_value and selected_unit:\n",
    "        return f\"{selected_value} {selected_unit}\"\n",
    "    else:\n",
    "        return \"nan\"\n",
    "\n",
    "# Function to process CSV files\n",
    "def process_csv_file(csv_file):\n",
    "    # Read the CSV file\n",
    "    df = pd.read_csv(csv_file)\n",
    "\n",
    "    # Apply extraction and normalization to each row\n",
    "    df['prediction'] = df.apply(lambda row: extract_and_normalize_units(row['entity_name'], str(row['prediction'])), axis=1)\n",
    "\n",
    "    return df[['index', 'prediction']]\n",
    "\n",
    "\n"
   ]
  },
  {
   "cell_type": "code",
   "execution_count": 6,
   "metadata": {},
   "outputs": [],
   "source": [
    "# Example usage\n",
    "df = process_csv_file('final_final_output_with_predictions.csv')\n"
   ]
  },
  {
   "cell_type": "code",
   "execution_count": 7,
   "metadata": {},
   "outputs": [],
   "source": [
    "df.to_csv('last_submission.csv', index=False)"
   ]
  },
  {
   "cell_type": "code",
   "execution_count": 8,
   "metadata": {},
   "outputs": [
    {
     "data": {
      "text/plain": [
       "131187"
      ]
     },
     "execution_count": 8,
     "metadata": {},
     "output_type": "execute_result"
    }
   ],
   "source": [
    "len(df)"
   ]
  },
  {
   "cell_type": "code",
   "execution_count": null,
   "metadata": {},
   "outputs": [],
   "source": []
  }
 ],
 "metadata": {
  "kernelspec": {
   "display_name": "Python 3",
   "language": "python",
   "name": "python3"
  },
  "language_info": {
   "codemirror_mode": {
    "name": "ipython",
    "version": 3
   },
   "file_extension": ".py",
   "mimetype": "text/x-python",
   "name": "python",
   "nbconvert_exporter": "python",
   "pygments_lexer": "ipython3",
   "version": "3.11.9"
  }
 },
 "nbformat": 4,
 "nbformat_minor": 2
}
